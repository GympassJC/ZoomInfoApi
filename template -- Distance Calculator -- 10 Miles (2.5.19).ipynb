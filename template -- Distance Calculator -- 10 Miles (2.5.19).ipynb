{
 "cells": [
  {
   "cell_type": "markdown",
   "metadata": {},
   "source": [
    "If you changed the CBSA DATABASE on the coverage study template...\n",
    "\n",
    "YOU MUST UPDATE SHEET2 IN THE GYM DB\n",
    "\n",
    "If the CBSA Database is not updated. The distance study may not accurately reflect the metro areas"
   ]
  },
  {
   "cell_type": "code",
   "execution_count": 52,
   "metadata": {
    "scrolled": true
   },
   "outputs": [
    {
     "name": "stdout",
     "output_type": "stream",
     "text": [
      "Wall time: 12.7 s\n"
     ]
    }
   ],
   "source": [
    "%%time\n",
    "\n",
    "\n",
    "import pandas as pd\n",
    "import numpy as np\n",
    "from geopy.distance import great_circle \n",
    "import time\n",
    "import os\n",
    "\n",
    "\n",
    "df = pd.read_csv('Penn Med Lat Long.csv')\n",
    "\n",
    "gymdf = pd.read_excel('2.4.19 GYM DB PYTHON.xlsx',sheet_name=\"Sheet1\")\n",
    "\n",
    "# IF YOU CHANGED THE CBSA DATABASE... YOU MUST UPDATE SHEET2 IN THE GYM DB\n",
    "msadf = pd.read_excel('2.4.19 GYM DB PYTHON.xlsx',sheet_name='Sheet2')\n",
    "\n",
    "company_name = \"INSERT FULL COMPANY NAME HERE\""
   ]
  },
  {
   "cell_type": "markdown",
   "metadata": {},
   "source": [
    "^ Imports important libraries. \n",
    "(df: data frame) Imports Excel File with company zips, Lats, Longs, and FTE's. \n",
    "gymdf imports Gym Database (Sheet1). \n",
    "msadf imports the CBSA Database from the Gym Database file (Sheet2).\n",
    "\n",
    "IMPORTANT: Your excel files should (xlsx supported) be in the same folder as your Distance Calculator file (ipynb). Excel column names should be \"latitude\" / \"longitude\" exactly (no uppercase letters and no preceding or trailing spaces)."
   ]
  },
  {
   "cell_type": "code",
   "execution_count": 53,
   "metadata": {},
   "outputs": [
    {
     "name": "stdout",
     "output_type": "stream",
     "text": [
      ". . . . . . . . . . . . . . . . . . . . . . . . . . . . . . . . . . . . . . . . . . . . . . . . . . . . . . . . . . . . . . . . . . . . . . . . . . . . . . . . . . . . . . . . . . . . DONE\n"
     ]
    }
   ],
   "source": [
    "id_list = []\n",
    "title_list = []\n",
    "status_list = []\n",
    "city_list = []\n",
    "state_list = []\n",
    "Gym_Type_list = []\n",
    "Pricing_Tier_list = []\n",
    "\n",
    "dist_list = []\n",
    "dist_less_than_5 = []\n",
    "zip_list = []\n",
    "fte_list = []\n",
    "msa_list = []\n",
    "emp_city_list = []\n",
    "\n",
    "dist = 10\n",
    "dist = dist * 1.6340934\n",
    "latmod = dist/50\n",
    "longmod = dist/60\n",
    "\n",
    "for y in df.itertuples():\n",
    "    print(\". \",end=\"\")\n",
    "    i = y[0]\n",
    "    templat = y[2]\n",
    "    templong = y[3]\n",
    "    latmin = templat - latmod\n",
    "    latmax = templat + latmod\n",
    "    longmax = templong + longmod \n",
    "    longmin = templong - longmod\n",
    "    \n",
    "    df_temp = gymdf[(gymdf[\"latitude\"] >latmin) & (gymdf[\"latitude\"]<latmax) & (gymdf[\"longitude\"]>longmin) & (gymdf[\"longitude\"]< longmax)]\n",
    "    \n",
    "    for z in df_temp.itertuples():\n",
    "        if great_circle((y[2], y[3]),(z[10],z[11])) <= dist:\n",
    "            id_list.append(z[1])\n",
    "            distance = great_circle((y[2], y[3]),(z[10],z[11])).miles\n",
    "            dist_list.append(distance)\n",
    "            if distance < 5:\n",
    "                dist_less_than_5.append(\"Y\")\n",
    "            else:\n",
    "                dist_less_than_5.append(\"N\")\n",
    "            zip_list.append(y[1])\n",
    "            fte_list.append(y[4])\n",
    "            title_list.append(z[2])\n",
    "            status_list.append(z[3])\n",
    "            city_list.append(z[6])\n",
    "            state_list.append(z[7])\n",
    "            Gym_Type_list.append(z[8])\n",
    "            Pricing_Tier_list.append(z[9])\n",
    "            \n",
    "            try:\n",
    "                temp_msa = msadf[msadf[\"ZIP CODE\"] == y[1]]\n",
    "                msa_list.append(temp_msa['CBSA Combined'].values[0])\n",
    "                emp_city_list.append(temp_msa['City'].values[0])\n",
    "            except:\n",
    "                msa_list.append(\"\")\n",
    "                emp_city_list.append(\"\")\n",
    "            \n",
    "print(\"DONE\")"
   ]
  },
  {
   "cell_type": "markdown",
   "metadata": {},
   "source": [
    "^ Asks for 4 lists of data (Gym ID, Dist Calc, Company Postal Code, # of FTEs). \n",
    "\n",
    "BOX CREATION: In order to reduce computational demand, a temporary data frame nees to be created. For each Company Zip code, we create a slice of all the gyms that could be within 5 miles of the Company Zip. A distance of 5 miles chosen, and converted to miles. Lat is divided by 50, and Long is divided by 60. \n",
    "\n",
    "Row (ZIPS) is replaced with var name \"y\". Lat is in column 2 while Long is in column 3. Gym (Zips) is replaced with var name \"z\". Lat is in column 10 while Long is in column 11."
   ]
  },
  {
   "cell_type": "code",
   "execution_count": 54,
   "metadata": {},
   "outputs": [],
   "source": [
    "export = pd.DataFrame()\n",
    "\n",
    "export['gym_id'] = id_list\n",
    "export['title'] = title_list\n",
    "export['status'] = status_list\n",
    "export['dist'] = dist_list\n",
    "export['dist < 5'] = dist_less_than_5\n",
    "export['zip'] = zip_list\n",
    "export['FTE'] = fte_list\n",
    "export['city'] = city_list\n",
    "export['state'] = state_list\n",
    "export['Gym_Type'] = Gym_Type_list\n",
    "export['Gym_Tier'] = Pricing_Tier_list\n",
    "export['Region'] = msa_list\n",
    "export['Employee City'] = emp_city_list"
   ]
  },
  {
   "cell_type": "code",
   "execution_count": 55,
   "metadata": {},
   "outputs": [],
   "source": [
    "file_name = company_name + \" Distance Study.xlsx\"\n",
    "export.to_excel(file_name, sheet_name='Raw')"
   ]
  },
  {
   "cell_type": "markdown",
   "metadata": {},
   "source": [
    "^ Exports data to Excel"
   ]
  }
 ],
 "metadata": {
  "kernelspec": {
   "display_name": "Python 3",
   "language": "python",
   "name": "python3"
  },
  "language_info": {
   "codemirror_mode": {
    "name": "ipython",
    "version": 3
   },
   "file_extension": ".py",
   "mimetype": "text/x-python",
   "name": "python",
   "nbconvert_exporter": "python",
   "pygments_lexer": "ipython3",
   "version": "3.7.1"
  }
 },
 "nbformat": 4,
 "nbformat_minor": 2
}
